{
 "cells": [
  {
   "cell_type": "markdown",
   "metadata": {},
   "source": [
    "#  CÓDIGO DE EVENTOS PARA LA COMUNICACIÓN SERIAL DE ARDUINO Y VISUAL BASIC"
   ]
  },
  {
   "cell_type": "markdown",
   "metadata": {},
   "source": [
    "\n",
    "Se desarrollará una aplicación en Windows Forms que funcione como interfaz entre el usuario y el escáner, está brindará información referente al proceso de escaneo y enviará las ordenes requeridas al arduino a través de la comunicación serial.\n",
    "\n",
    "La primera interacción entre el asistente de escaneo y arduino, se da cuando el usuario selecciona el nivel de intensidad de luz, en esta ventana seleccionará una de las check Box, bien sea alto, medio, bajo o manual, cada una de estas escribirá un dato en el serial Port correspondiente al arduino, en nuestro caso SPEscaner, los valores corresponderán a las letras a,b,c,d respectivamente; las líneas de código para iniciar la comunicación serial y ejecutar la tarea mencionada se muestran a continuación."
   ]
  },
  {
   "cell_type": "code",
   "execution_count": 2,
   "metadata": {},
   "outputs": [
    {
     "ename": "IndentationError",
     "evalue": "unindent does not match any outer indentation level (<tokenize>, line 3)",
     "output_type": "error",
     "traceback": [
      "\u001b[1;36m  File \u001b[1;32m\"<tokenize>\"\u001b[1;36m, line \u001b[1;32m3\u001b[0m\n\u001b[1;33m    SPEscaner.Open()\u001b[0m\n\u001b[1;37m    ^\u001b[0m\n\u001b[1;31mIndentationError\u001b[0m\u001b[1;31m:\u001b[0m unindent does not match any outer indentation level\n"
     ]
    }
   ],
   "source": [
    "     Public Class FRLuz\n",
    "    Private Sub Form2_Load(sender As Object, e As EventArgs) Handles MyBase.Load\n",
    "        SPEscaner.Open()\n",
    "    End Sub\n",
    "\n",
    "    Private Sub CBAlto_CheckedChanged(sender As Object, e As EventArgs) Handles CBAlto.CheckedChanged\n",
    "        SPEscaner.Write(\"a\")\n",
    "    End Sub\n",
    "\n",
    "    Private Sub CBMedio_CheckedChanged(sender As Object, e As EventArgs) Handles CBMedio.CheckedChanged\n",
    "        SPEscaner.Write(\"b\")\n",
    "    End Sub\n",
    "\n",
    "    Private Sub CBBajo_CheckedChanged(sender As Object, e As EventArgs) Handles CBBajo.CheckedChanged\n",
    "        SPEscaner.Write(\"c\")\n",
    "    End Sub\n",
    "\n",
    "    Private Sub CBManual_CheckedChanged(sender As Object, e As EventArgs) Handles CBManual.CheckedChanged\n",
    "        SPEscaner.Write(\"d\")\n",
    "    End Sub\n",
    "End Class"
   ]
  },
  {
   "cell_type": "code",
   "execution_count": null,
   "metadata": {},
   "outputs": [],
   "source": []
  }
 ],
 "metadata": {
  "kernelspec": {
   "display_name": "Python 3",
   "language": "python",
   "name": "python3"
  },
  "language_info": {
   "codemirror_mode": {
    "name": "ipython",
    "version": 3
   },
   "file_extension": ".py",
   "mimetype": "text/x-python",
   "name": "python",
   "nbconvert_exporter": "python",
   "pygments_lexer": "ipython3",
   "version": "3.7.4"
  }
 },
 "nbformat": 4,
 "nbformat_minor": 4
}
